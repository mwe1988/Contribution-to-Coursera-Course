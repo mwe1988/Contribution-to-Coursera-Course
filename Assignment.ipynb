{
 "cells": [
  {
   "cell_type": "markdown",
   "id": "950d9cfe-c0d0-4fc6-b274-e9b3a276cd43",
   "metadata": {},
   "source": [
    "Project Tasks:\n",
    "\n",
    "-Task 1: Familiarize yourself with the dataset \n",
    "-Task 2: (Optional) If you do not already have an instance of Watson Studio, create an IBM Cloud Lite account and provision an instance of Waston Studio.\n",
    "-Task 3: Load the dataset in a Jupyter Notebook using Watson Studio.\n",
    "-Task 4: Generate basic statistics and visualizations for upper management. \n",
    "-Task 5: Use the appropriate tests to answer the questions provided.\n",
    "-Task 6: Share your Jupyter Notebook."
   ]
  },
  {
   "cell_type": "markdown",
   "id": "fbd25009-6208-4872-831c-a50ae101a209",
   "metadata": {},
   "source": [
    "Import of needed libraries"
   ]
  },
  {
   "cell_type": "code",
   "execution_count": 1,
   "id": "683f34de-6be0-4148-b6b7-bae4739c8281",
   "metadata": {},
   "outputs": [],
   "source": [
    "import numpy as np\n",
    "import pandas as pd\n",
    "import seaborn as sns\n",
    "import matplotlib.pyplot as plt\n",
    "import scipy.stats\n",
    "from statsmodels.formula.api import ols\n",
    "import seaborn as sns\n",
    "import statsmodels.api as sm\n",
    "import datetime\n",
    "\n",
    "%matplotlib inline\n",
    "\n",
    "import warnings\n",
    "warnings.filterwarnings('ignore')\n",
    "\n",
    "np.random.seed(0)\n",
    "np.set_printoptions(suppress=True)"
   ]
  },
  {
   "cell_type": "code",
   "execution_count": 2,
   "id": "873249e5-f1c0-41fd-9676-02f7908c6b3e",
   "metadata": {},
   "outputs": [],
   "source": [
    "# download doesn't work --> Please use local copy of the file\n",
    "#boston_url = 'https://cf-courses-data.s3.us.cloud-object-storage.appdomain.cloud/IBMDeveloperSkillsNetwork-ST0151EN-SkillsNetwork/labs/boston_housing.csv'\n",
    "#boston_df=pd.read_csv(boston_url)"
   ]
  },
  {
   "cell_type": "code",
   "execution_count": 3,
   "id": "16fb0ee2-62dc-42b3-930b-f8cf3c79c32d",
   "metadata": {},
   "outputs": [
    {
     "data": {
      "text/html": [
       "<div>\n",
       "<style scoped>\n",
       "    .dataframe tbody tr th:only-of-type {\n",
       "        vertical-align: middle;\n",
       "    }\n",
       "\n",
       "    .dataframe tbody tr th {\n",
       "        vertical-align: top;\n",
       "    }\n",
       "\n",
       "    .dataframe thead th {\n",
       "        text-align: right;\n",
       "    }\n",
       "</style>\n",
       "<table border=\"1\" class=\"dataframe\">\n",
       "  <thead>\n",
       "    <tr style=\"text-align: right;\">\n",
       "      <th></th>\n",
       "      <th>Unnamed: 0</th>\n",
       "      <th>CRIM</th>\n",
       "      <th>ZN</th>\n",
       "      <th>INDUS</th>\n",
       "      <th>CHAS</th>\n",
       "      <th>NOX</th>\n",
       "      <th>RM</th>\n",
       "      <th>AGE</th>\n",
       "      <th>DIS</th>\n",
       "      <th>RAD</th>\n",
       "      <th>TAX</th>\n",
       "      <th>PTRATIO</th>\n",
       "      <th>LSTAT</th>\n",
       "      <th>MEDV</th>\n",
       "    </tr>\n",
       "  </thead>\n",
       "  <tbody>\n",
       "    <tr>\n",
       "      <th>0</th>\n",
       "      <td>0</td>\n",
       "      <td>0.00632</td>\n",
       "      <td>18.0</td>\n",
       "      <td>2.31</td>\n",
       "      <td>0.0</td>\n",
       "      <td>0.538</td>\n",
       "      <td>6.575</td>\n",
       "      <td>65.2</td>\n",
       "      <td>4.0900</td>\n",
       "      <td>1.0</td>\n",
       "      <td>296.0</td>\n",
       "      <td>15.3</td>\n",
       "      <td>4.98</td>\n",
       "      <td>24.0</td>\n",
       "    </tr>\n",
       "    <tr>\n",
       "      <th>1</th>\n",
       "      <td>1</td>\n",
       "      <td>0.02731</td>\n",
       "      <td>0.0</td>\n",
       "      <td>7.07</td>\n",
       "      <td>0.0</td>\n",
       "      <td>0.469</td>\n",
       "      <td>6.421</td>\n",
       "      <td>78.9</td>\n",
       "      <td>4.9671</td>\n",
       "      <td>2.0</td>\n",
       "      <td>242.0</td>\n",
       "      <td>17.8</td>\n",
       "      <td>9.14</td>\n",
       "      <td>21.6</td>\n",
       "    </tr>\n",
       "    <tr>\n",
       "      <th>2</th>\n",
       "      <td>2</td>\n",
       "      <td>0.02729</td>\n",
       "      <td>0.0</td>\n",
       "      <td>7.07</td>\n",
       "      <td>0.0</td>\n",
       "      <td>0.469</td>\n",
       "      <td>7.185</td>\n",
       "      <td>61.1</td>\n",
       "      <td>4.9671</td>\n",
       "      <td>2.0</td>\n",
       "      <td>242.0</td>\n",
       "      <td>17.8</td>\n",
       "      <td>4.03</td>\n",
       "      <td>34.7</td>\n",
       "    </tr>\n",
       "    <tr>\n",
       "      <th>3</th>\n",
       "      <td>3</td>\n",
       "      <td>0.03237</td>\n",
       "      <td>0.0</td>\n",
       "      <td>2.18</td>\n",
       "      <td>0.0</td>\n",
       "      <td>0.458</td>\n",
       "      <td>6.998</td>\n",
       "      <td>45.8</td>\n",
       "      <td>6.0622</td>\n",
       "      <td>3.0</td>\n",
       "      <td>222.0</td>\n",
       "      <td>18.7</td>\n",
       "      <td>2.94</td>\n",
       "      <td>33.4</td>\n",
       "    </tr>\n",
       "    <tr>\n",
       "      <th>4</th>\n",
       "      <td>4</td>\n",
       "      <td>0.06905</td>\n",
       "      <td>0.0</td>\n",
       "      <td>2.18</td>\n",
       "      <td>0.0</td>\n",
       "      <td>0.458</td>\n",
       "      <td>7.147</td>\n",
       "      <td>54.2</td>\n",
       "      <td>6.0622</td>\n",
       "      <td>3.0</td>\n",
       "      <td>222.0</td>\n",
       "      <td>18.7</td>\n",
       "      <td>5.33</td>\n",
       "      <td>36.2</td>\n",
       "    </tr>\n",
       "    <tr>\n",
       "      <th>...</th>\n",
       "      <td>...</td>\n",
       "      <td>...</td>\n",
       "      <td>...</td>\n",
       "      <td>...</td>\n",
       "      <td>...</td>\n",
       "      <td>...</td>\n",
       "      <td>...</td>\n",
       "      <td>...</td>\n",
       "      <td>...</td>\n",
       "      <td>...</td>\n",
       "      <td>...</td>\n",
       "      <td>...</td>\n",
       "      <td>...</td>\n",
       "      <td>...</td>\n",
       "    </tr>\n",
       "    <tr>\n",
       "      <th>501</th>\n",
       "      <td>501</td>\n",
       "      <td>0.06263</td>\n",
       "      <td>0.0</td>\n",
       "      <td>11.93</td>\n",
       "      <td>0.0</td>\n",
       "      <td>0.573</td>\n",
       "      <td>6.593</td>\n",
       "      <td>69.1</td>\n",
       "      <td>2.4786</td>\n",
       "      <td>1.0</td>\n",
       "      <td>273.0</td>\n",
       "      <td>21.0</td>\n",
       "      <td>9.67</td>\n",
       "      <td>22.4</td>\n",
       "    </tr>\n",
       "    <tr>\n",
       "      <th>502</th>\n",
       "      <td>502</td>\n",
       "      <td>0.04527</td>\n",
       "      <td>0.0</td>\n",
       "      <td>11.93</td>\n",
       "      <td>0.0</td>\n",
       "      <td>0.573</td>\n",
       "      <td>6.120</td>\n",
       "      <td>76.7</td>\n",
       "      <td>2.2875</td>\n",
       "      <td>1.0</td>\n",
       "      <td>273.0</td>\n",
       "      <td>21.0</td>\n",
       "      <td>9.08</td>\n",
       "      <td>20.6</td>\n",
       "    </tr>\n",
       "    <tr>\n",
       "      <th>503</th>\n",
       "      <td>503</td>\n",
       "      <td>0.06076</td>\n",
       "      <td>0.0</td>\n",
       "      <td>11.93</td>\n",
       "      <td>0.0</td>\n",
       "      <td>0.573</td>\n",
       "      <td>6.976</td>\n",
       "      <td>91.0</td>\n",
       "      <td>2.1675</td>\n",
       "      <td>1.0</td>\n",
       "      <td>273.0</td>\n",
       "      <td>21.0</td>\n",
       "      <td>5.64</td>\n",
       "      <td>23.9</td>\n",
       "    </tr>\n",
       "    <tr>\n",
       "      <th>504</th>\n",
       "      <td>504</td>\n",
       "      <td>0.10959</td>\n",
       "      <td>0.0</td>\n",
       "      <td>11.93</td>\n",
       "      <td>0.0</td>\n",
       "      <td>0.573</td>\n",
       "      <td>6.794</td>\n",
       "      <td>89.3</td>\n",
       "      <td>2.3889</td>\n",
       "      <td>1.0</td>\n",
       "      <td>273.0</td>\n",
       "      <td>21.0</td>\n",
       "      <td>6.48</td>\n",
       "      <td>22.0</td>\n",
       "    </tr>\n",
       "    <tr>\n",
       "      <th>505</th>\n",
       "      <td>505</td>\n",
       "      <td>0.04741</td>\n",
       "      <td>0.0</td>\n",
       "      <td>11.93</td>\n",
       "      <td>0.0</td>\n",
       "      <td>0.573</td>\n",
       "      <td>6.030</td>\n",
       "      <td>80.8</td>\n",
       "      <td>2.5050</td>\n",
       "      <td>1.0</td>\n",
       "      <td>273.0</td>\n",
       "      <td>21.0</td>\n",
       "      <td>7.88</td>\n",
       "      <td>11.9</td>\n",
       "    </tr>\n",
       "  </tbody>\n",
       "</table>\n",
       "<p>506 rows × 14 columns</p>\n",
       "</div>"
      ],
      "text/plain": [
       "     Unnamed: 0     CRIM    ZN  INDUS  CHAS    NOX     RM   AGE     DIS  RAD  \\\n",
       "0             0  0.00632  18.0   2.31   0.0  0.538  6.575  65.2  4.0900  1.0   \n",
       "1             1  0.02731   0.0   7.07   0.0  0.469  6.421  78.9  4.9671  2.0   \n",
       "2             2  0.02729   0.0   7.07   0.0  0.469  7.185  61.1  4.9671  2.0   \n",
       "3             3  0.03237   0.0   2.18   0.0  0.458  6.998  45.8  6.0622  3.0   \n",
       "4             4  0.06905   0.0   2.18   0.0  0.458  7.147  54.2  6.0622  3.0   \n",
       "..          ...      ...   ...    ...   ...    ...    ...   ...     ...  ...   \n",
       "501         501  0.06263   0.0  11.93   0.0  0.573  6.593  69.1  2.4786  1.0   \n",
       "502         502  0.04527   0.0  11.93   0.0  0.573  6.120  76.7  2.2875  1.0   \n",
       "503         503  0.06076   0.0  11.93   0.0  0.573  6.976  91.0  2.1675  1.0   \n",
       "504         504  0.10959   0.0  11.93   0.0  0.573  6.794  89.3  2.3889  1.0   \n",
       "505         505  0.04741   0.0  11.93   0.0  0.573  6.030  80.8  2.5050  1.0   \n",
       "\n",
       "       TAX  PTRATIO  LSTAT  MEDV  \n",
       "0    296.0     15.3   4.98  24.0  \n",
       "1    242.0     17.8   9.14  21.6  \n",
       "2    242.0     17.8   4.03  34.7  \n",
       "3    222.0     18.7   2.94  33.4  \n",
       "4    222.0     18.7   5.33  36.2  \n",
       "..     ...      ...    ...   ...  \n",
       "501  273.0     21.0   9.67  22.4  \n",
       "502  273.0     21.0   9.08  20.6  \n",
       "503  273.0     21.0   5.64  23.9  \n",
       "504  273.0     21.0   6.48  22.0  \n",
       "505  273.0     21.0   7.88  11.9  \n",
       "\n",
       "[506 rows x 14 columns]"
      ]
     },
     "execution_count": 3,
     "metadata": {},
     "output_type": "execute_result"
    }
   ],
   "source": [
    "# only for local copy usage\n",
    "# reading data from csv\n",
    "df = pd.read_csv('./boston_housing.csv')\n",
    "\n",
    "# checking the data frame\n",
    "df"
   ]
  },
  {
   "cell_type": "markdown",
   "id": "56c9ef47-7d09-4035-b2d0-a2bb43ceb1cf",
   "metadata": {},
   "source": [
    "The data fram is 506 rows × 14 columns with the columns as defined in the task\n",
    "\n",
    "-CRIM - per capita crime rate by town\n",
    "-ZN - proportion of residential land zoned for lots over 25,000 sq.ft.\n",
    "-INDUS - proportion of non-retail business acres per town.\n",
    "-CHAS - Charles River dummy variable (1 if tract bounds river; 0 otherwise)\n",
    "-NOX - nitric oxides concentration (parts per 10 million)\n",
    "-RM - average number of rooms per dwelling\n",
    "-AGE - proportion of owner-occupied units built prior to 1940\n",
    "-DIS - weighted distances to five Boston employment centres\n",
    "-RAD - index of accessibility to radial highways\n",
    "-TAX - full-value property-tax rate per $10,000\n",
    "-PTRATIO - pupil-teacher ratio by town\n",
    "-LSTAT - % lower status of the population\n",
    "-MEDV - Median value of owner-occupied homes in $1000's"
   ]
  },
  {
   "cell_type": "markdown",
   "id": "a8e10a5e-a67f-4080-b6cf-2dd1ca89d4c3",
   "metadata": {},
   "source": [
    "The following tasks were given:\n",
    "\n",
    "-For the \"Median value of owner-occupied homes\" provide a boxplot\n",
    "-Provide a  bar plot for the Charles river variable\n",
    "-Provide a boxplot for the MEDV variable vs the AGE variable. (Discretize the age variable into three groups of 35 years and younger, between 35 and 70 years and 70 years and older)\n",
    "-Provide a scatter plot to show the relationship between Nitric oxide concentrations and the proportion of non-retail business acres per town. What can you say about the relationship?\n",
    "-Create a histogram for the pupil to teacher ratio variable"
   ]
  },
  {
   "cell_type": "code",
   "execution_count": 4,
   "id": "d956eb69-69a2-4f67-86c3-e1f2369f6d70",
   "metadata": {},
   "outputs": [
    {
     "data": {
      "image/png": "[encoded data removed]",
      "text/plain": [
       "<Figure size 1080x720 with 1 Axes>"
      ]
     },
     "metadata": {
      "needs_background": "light"
     },
     "output_type": "display_data"
    }
   ],
   "source": [
    "#Following straight forward the task „For the \"Median value of owner-occupied homes\" provide a boxplot\n",
    "# defining figure size\n",
    "plt.figure(figsize=(15,10))\n",
    "\n",
    "# drawing a box plot to show distributions with respect to category MEDV, using seaborns boxplot function\n",
    "sns.boxplot(x = df.MEDV)\n",
    "\n",
    "# add the title\n",
    "plt.title('Boxplot for MEDV')\n",
    "\n",
    "# plot...\n",
    "plt.show()"
   ]
  },
  {
   "cell_type": "code",
   "execution_count": 5,
   "id": "b98fb410-97b8-4c39-b883-0aa87fab6cb7",
   "metadata": {
    "tags": []
   },
   "outputs": [
    {
     "data": {
      "image/png": "[encoded data removed]",
      "text/plain": [
       "<Figure size 1080x720 with 1 Axes>"
      ]
     },
     "metadata": {
      "needs_background": "light"
     },
     "output_type": "display_data"
    }
   ],
   "source": [
    "# and provide a histogram for the Charles river variable, as demanded\n",
    "# defining figure size\n",
    "plt.figure(figsize=(15,10))\n",
    "\n",
    "# draw the histogram for CHAS, using seaborns distplot function\n",
    "sns.distplot(a = df.CHAS,bins = 10, kde = False)\n",
    "\n",
    "# add the title\n",
    "plt.title('Histogram for Charles River')\n",
    "\n",
    "# plot...\n",
    "plt.show()"
   ]
  },
  {
   "cell_type": "code",
   "execution_count": 6,
   "id": "e8b9a9de-a420-47c1-aa5e-6a0ecf3f1ab7",
   "metadata": {
    "jupyter": {
     "source_hidden": true
    },
    "tags": []
   },
   "outputs": [],
   "source": [
    "# Next task:\n",
    "# Provide a boxplot for the MEDV variable vs the AGE variable. \n",
    "# (Discretize the age variable into three groups of 35 years and younger, between 35 and 70 years and 70 years and older)\n",
    "\n",
    "# discretize the age variable in three groups\n",
    "# group one:\n",
    "df.loc[(df['AGE'] <= 35),'age_group'] = '35 years and younger'\n",
    "\n",
    "# group two:\n",
    "df.loc[(df['AGE'] > 35) & (df[\"AGE\"]<70),'age_group'] = 'between 35 and 70 years'\n",
    "\n",
    "# group three:\n",
    "df.loc[(df['AGE'] >= 70),'age_group'] = '70 years and older'"
   ]
  },
  {
   "cell_type": "code",
   "execution_count": 7,
   "id": "37ced25c-58f6-44c4-8b8d-610ae96bd458",
   "metadata": {
    "jupyter": {
     "source_hidden": true
    },
    "tags": []
   },
   "outputs": [
    {
     "data": {
      "image/png": "[encoded data removed]",
      "text/plain": [
       "<Figure size 1080x720 with 1 Axes>"
      ]
     },
     "metadata": {
      "needs_background": "light"
     },
     "output_type": "display_data"
    }
   ],
   "source": [
    "# creating the boxplot\n",
    "plt.figure(figsize=(15,10))\n",
    "\n",
    "# drawing a box plot to show distributions with respect to category MEDV and the discretized age variable in three groups, using seaborns boxplot function\n",
    "sns.boxplot(x = df.MEDV, y = df.age_group, data = df)\n",
    "\n",
    "# add the title\n",
    "plt.title('Boxplot for MEDV vs AGE ')\n",
    "\n",
    "# ... plot\n",
    "plt.show()"
   ]
  },
  {
   "cell_type": "code",
   "execution_count": 8,
   "id": "6536f965-e13b-49c4-a4e1-50a064aaa8ee",
   "metadata": {},
   "outputs": [
    {
     "data": {
      "image/png": "[encoded data removed]",
      "text/plain": [
       "<Figure size 1080x720 with 1 Axes>"
      ]
     },
     "metadata": {
      "needs_background": "light"
     },
     "output_type": "display_data"
    }
   ],
   "source": [
    "# Next task:\n",
    "# Provide a scatter plot to show the relationship between Nitric oxide concentrations and the proportion\n",
    "# of non-retail business acres per town. What can you say about the relationship?\n",
    "\n",
    "plt.figure(figsize = (15,10))\n",
    "\n",
    "# drawing a scatter plot to show scattering with respect to category NOX and the INDUS using seaborns scatterplot function\n",
    "sns.scatterplot(x = df.NOX, y = df.INDUS, data = df)\n",
    "\n",
    "# add the title\n",
    "plt.title('Relationship between NOX Concentrations (NOX) and Proportion of Non-Retail Business Acres per Town (INDUS)')\n",
    "\n",
    "# plot...\n",
    "plt.show()"
   ]
  },
  {
   "cell_type": "code",
   "execution_count": 9,
   "id": "d21e8a63-3b17-4f13-96f0-4de30af30868",
   "metadata": {},
   "outputs": [
    {
     "data": {
      "image/png": "[encoded data removed]",
      "text/plain": [
       "<Figure size 1080x720 with 1 Axes>"
      ]
     },
     "metadata": {
      "needs_background": "light"
     },
     "output_type": "display_data"
    }
   ],
   "source": [
    "# Next task:\n",
    "# Create a histogram for the pupil to teacher ratio variable\n",
    "plt.figure(figsize = (15,10))\n",
    "\n",
    "# draw the histogram with respect to PTRATIO using seaborns distplot function\n",
    "sns.distplot(a = df.PTRATIO, bins=10, kde=False)\n",
    "\n",
    "# add the title\n",
    "plt.title('Histogram for the pupil to teacher ratio variable (PTRATIO)')\n",
    "\n",
    "# ... plot\n",
    "plt.show()"
   ]
  },
  {
   "cell_type": "markdown",
   "id": "5a7b3581-aae2-4812-a6e4-e13453e03f97",
   "metadata": {},
   "source": [
    "Overview of task for statistical evaluation\n",
    "\n",
    "For each of the following questions:\n",
    "-Is there a significant difference in median value of houses bounded by the Charles river or not? (T-test for independent samples)\n",
    "-Is there a difference in Median values of houses (MEDV) for each proportion of owner occupied units built prior to 1940 (AGE)? (ANOVA)\n",
    "-Can we conclude that there is no relationship between Nitric oxide concentrations and proportion of non-retail business acres per town? (Pearson Correlation)\n",
    "-What is the impact of an additional weighted distance  to the five Boston employment centres on the median value of owner occupied homes? (Regression analysis)\n",
    "\n",
    "Be sure to:\n",
    "-State your hypothesis.\n",
    "-Use α = 0.05\n",
    "-Perform the test Statistics.\n",
    "-State the conclusion from the test."
   ]
  },
  {
   "cell_type": "markdown",
   "id": "a2739901-8132-4f4c-82c4-836b60dc84d8",
   "metadata": {},
   "source": [
    "First Task:\n",
    "Is there a significant difference in median value of houses bounded by the Charles river or not? (T-test for independent samples)\n",
    "\n",
    "Null Hypothesis: Both average MEDV are the same"
   ]
  },
  {
   "cell_type": "code",
   "execution_count": 10,
   "id": "6ac270c9-12a4-4b14-b388-5eb5947d43b0",
   "metadata": {},
   "outputs": [],
   "source": [
    "# Alternative Hypothesis():\n",
    "# creating a series containing counts of unique values\n",
    "df['CHAS'].value_counts()\n",
    "\n",
    "# creating two lists 'a' and 'b' for evaluation via t-test for CHAS == 0 and CHAS == 1\n",
    "a = df[df['CHAS'] == 0]['MEDV']\n",
    "b = df[df['CHAS'] == 1]['MEDV']"
   ]
  },
  {
   "cell_type": "code",
   "execution_count": 11,
   "id": "3991cf78-d6ec-42d8-8079-8b1308234ef9",
   "metadata": {},
   "outputs": [
    {
     "data": {
      "text/plain": [
       "0      24.0\n",
       "1      21.6\n",
       "2      34.7\n",
       "3      33.4\n",
       "4      36.2\n",
       "       ... \n",
       "501    22.4\n",
       "502    20.6\n",
       "503    23.9\n",
       "504    22.0\n",
       "505    11.9\n",
       "Name: MEDV, Length: 471, dtype: float64"
      ]
     },
     "execution_count": 11,
     "metadata": {},
     "output_type": "execute_result"
    }
   ],
   "source": [
    "# checking a\n",
    "a"
   ]
  },
  {
   "cell_type": "code",
   "execution_count": 12,
   "id": "4436f538-7bf2-4349-bb7f-09b364dc3025",
   "metadata": {},
   "outputs": [
    {
     "data": {
      "text/plain": [
       "142    13.4\n",
       "152    15.3\n",
       "154    17.0\n",
       "155    15.6\n",
       "160    27.0\n",
       "162    50.0\n",
       "163    50.0\n",
       "208    24.4\n",
       "209    20.0\n",
       "210    21.7\n",
       "211    19.3\n",
       "212    22.4\n",
       "216    23.3\n",
       "218    21.5\n",
       "219    23.0\n",
       "220    26.7\n",
       "221    21.7\n",
       "222    27.5\n",
       "234    29.0\n",
       "236    25.1\n",
       "269    20.7\n",
       "273    35.2\n",
       "274    32.4\n",
       "276    33.2\n",
       "277    33.1\n",
       "282    46.0\n",
       "283    50.0\n",
       "356    17.8\n",
       "357    21.7\n",
       "358    22.7\n",
       "363    16.8\n",
       "364    21.9\n",
       "369    50.0\n",
       "370    50.0\n",
       "372    50.0\n",
       "Name: MEDV, dtype: float64"
      ]
     },
     "execution_count": 12,
     "metadata": {},
     "output_type": "execute_result"
    }
   ],
   "source": [
    "# checking b\n",
    "b"
   ]
  },
  {
   "cell_type": "code",
   "execution_count": 13,
   "id": "da987a93-3274-44dd-8028-c5f92b17b7c7",
   "metadata": {},
   "outputs": [
    {
     "data": {
      "text/plain": [
       "Ttest_indResult(statistic=-3.996437466090509, pvalue=7.390623170519905e-05)"
      ]
     },
     "execution_count": 13,
     "metadata": {},
     "output_type": "execute_result"
    }
   ],
   "source": [
    "# performing t-test, using scipy and the generated lists 'a' and 'b'\n",
    "scipy.stats.ttest_ind(a, b, axis = 0, equal_var = True)"
   ]
  },
  {
   "cell_type": "markdown",
   "id": "854aa810-f424-4c04-94fa-22d39908dc0f",
   "metadata": {},
   "source": [
    "Since p-value p = 7.3906..... is more than alpha value of 0.05, we failed to reject null hypothesis --> there is NO statistical significance."
   ]
  },
  {
   "cell_type": "code",
   "execution_count": 14,
   "id": "bd5877a2-3ea3-48ed-ae9f-f72f022a3dfa",
   "metadata": {},
   "outputs": [
    {
     "data": {
      "text/plain": [
       "100.0    43\n",
       "95.4      4\n",
       "96.0      4\n",
       "98.2      4\n",
       "97.9      4\n",
       "         ..\n",
       "58.4      1\n",
       "74.4      1\n",
       "73.4      1\n",
       "33.1      1\n",
       "89.3      1\n",
       "Name: AGE, Length: 356, dtype: int64"
      ]
     },
     "execution_count": 14,
     "metadata": {},
     "output_type": "execute_result"
    }
   ],
   "source": [
    "# Next task:\n",
    "# Is there a difference in Median values of houses (MEDV) for each proportion of owner occupied units built prior to 1940 (AGE)? (ANOVA)\n",
    "# creating a series containing counts of unique values of column 'AGE'\n",
    "df['AGE'].value_counts()"
   ]
  },
  {
   "cell_type": "code",
   "execution_count": 15,
   "id": "3b6712e0-cba9-4f2e-beea-656033c53efb",
   "metadata": {},
   "outputs": [],
   "source": [
    "# again grouping ages\n",
    "# group one:\n",
    "df.loc[(df['AGE'] <= 35),'age_group'] = '35 years and younger'\n",
    "\n",
    "# group two:\n",
    "df.loc[(df['AGE'] > 35) & (df[\"AGE\"]<70),'age_group'] = 'between 35 and 70 years'\n",
    "\n",
    "# group three:\n",
    "df.loc[(df['AGE'] >= 70),'age_group'] = '70 years and older'"
   ]
  },
  {
   "cell_type": "markdown",
   "id": "aa6f1314-dc12-4223-81bf-2436404cb23c",
   "metadata": {},
   "source": [
    "Null-Hypothesis: All aging classes have the same population mean"
   ]
  },
  {
   "cell_type": "code",
   "execution_count": 16,
   "id": "4e1b89fc-f58b-4efb-8746-d10730cedbd3",
   "metadata": {},
   "outputs": [
    {
     "name": "stdout",
     "output_type": "stream",
     "text": [
      "F-Statistic=36.40764999196599, P-value=1.7105011022702984e-15\n"
     ]
    }
   ],
   "source": [
    "# separating the pre-defined groups in three classes, for the evaluation \n",
    "lower = df[df['age_group'] == '35 years and younger']['MEDV']\n",
    "middle = df[df['age_group'] == 'between 35 and 70 years']['MEDV']\n",
    "upper = df[df['age_group'] == '70 years and older']['MEDV']\n",
    "\n",
    "# perform one-way ANOVA --> The one-way ANOVA tests the null hypothesis that two or more groups have the same population mean.\n",
    "# The test is applied to samples from two or more groups, possibly with differing sizes.\n",
    "f_stats, p_value = scipy.stats.f_oneway(lower, middle, upper, axis = 0)\n",
    "\n",
    "# print the result of the ANOVA\n",
    "print('F-Statistic={0}, P-value={1}'.format(f_stats, p_value))"
   ]
  },
  {
   "cell_type": "markdown",
   "id": "55c547ae-78d9-4dd9-aa1b-e16dd556bbd1",
   "metadata": {},
   "source": [
    "Since P-value = 1.7105011022702984e-15 more than alpha value of 0.05, we failed to reject Null Hypothesis --> there is NO statistical significance."
   ]
  },
  {
   "cell_type": "markdown",
   "id": "d4060d27-9cf2-49b1-8ce1-4cee32886713",
   "metadata": {},
   "source": [
    "Next task:\n",
    "Can we conclude that there is no relationship between Nitric oxide concentrations and proportion of non-retail business acres per town? (Pearson Correlation)\n",
    "\n",
    "Hypotheses:\n",
    "1.NOX is not correlated with INDUS\n",
    "\n",
    "2.NOX is correlated with INDUS"
   ]
  },
  {
   "cell_type": "code",
   "execution_count": 17,
   "id": "c69257d4-eac0-4e47-8516-d3ddc3e27a9c",
   "metadata": {},
   "outputs": [
    {
     "name": "stdout",
     "output_type": "stream",
     "text": [
      "Pearson Coefficient value=0.7636514469209149, P-value=7.913361061240043e-98\n"
     ]
    }
   ],
   "source": [
    "# applying pearsons to 'NOX' and 'INDUS'\n",
    "pearson,p_value = scipy.stats.pearsonr(df['NOX'],df['INDUS'])\n",
    "\n",
    "# print the result of pearsons\n",
    "print('Pearson Coefficient value={0}, P-value={1}'.format(pearson, p_value))"
   ]
  },
  {
   "cell_type": "markdown",
   "id": "d25279ad-d8d7-4de2-85e7-60d6c6465603",
   "metadata": {},
   "source": [
    "Since the P-value=7.913361061240043e-98 < 0.05, we reject the Null Hypothesis\n",
    "Additionally, we conclude that there exists a relationship between Nitric Oxide and non-retail business acres per town."
   ]
  },
  {
   "cell_type": "markdown",
   "id": "325bac88-11a5-4c27-8cce-4f863ec8df87",
   "metadata": {
    "tags": []
   },
   "source": [
    "Next Task:\n",
    "What is the impact of an additional weighted distance to the five Boston employment centres on the median value of owner occupied homes? (Regression analysis)\n",
    "\n",
    "Null Hypothesis: Weighted distances to five Boston employment centres are not related to median value\n",
    "\n",
    "Alternative Hypothesis: Weighted distances to five Boston employment centres are related to median value"
   ]
  },
  {
   "cell_type": "code",
   "execution_count": 18,
   "id": "4a404048-fc7a-48ad-b369-7753f047f4d8",
   "metadata": {
    "tags": []
   },
   "outputs": [
    {
     "data": {
      "text/html": [
       "<table class=\"simpletable\">\n",
       "<caption>OLS Regression Results</caption>\n",
       "<tr>\n",
       "  <th>Dep. Variable:</th>          <td>MEDV</td>       <th>  R-squared:         </th> <td>   0.062</td>\n",
       "</tr>\n",
       "<tr>\n",
       "  <th>Model:</th>                   <td>OLS</td>       <th>  Adj. R-squared:    </th> <td>   0.061</td>\n",
       "</tr>\n",
       "<tr>\n",
       "  <th>Method:</th>             <td>Least Squares</td>  <th>  F-statistic:       </th> <td>   33.58</td>\n",
       "</tr>\n",
       "<tr>\n",
       "  <th>Date:</th>             <td>Thu, 10 Aug 2023</td> <th>  Prob (F-statistic):</th> <td>1.21e-08</td>\n",
       "</tr>\n",
       "<tr>\n",
       "  <th>Time:</th>                 <td>19:59:42</td>     <th>  Log-Likelihood:    </th> <td> -1823.9</td>\n",
       "</tr>\n",
       "<tr>\n",
       "  <th>No. Observations:</th>      <td>   506</td>      <th>  AIC:               </th> <td>   3652.</td>\n",
       "</tr>\n",
       "<tr>\n",
       "  <th>Df Residuals:</th>          <td>   504</td>      <th>  BIC:               </th> <td>   3660.</td>\n",
       "</tr>\n",
       "<tr>\n",
       "  <th>Df Model:</th>              <td>     1</td>      <th>                     </th>     <td> </td>   \n",
       "</tr>\n",
       "<tr>\n",
       "  <th>Covariance Type:</th>      <td>nonrobust</td>    <th>                     </th>     <td> </td>   \n",
       "</tr>\n",
       "</table>\n",
       "<table class=\"simpletable\">\n",
       "<tr>\n",
       "    <td></td>       <th>coef</th>     <th>std err</th>      <th>t</th>      <th>P>|t|</th>  <th>[0.025</th>    <th>0.975]</th>  \n",
       "</tr>\n",
       "<tr>\n",
       "  <th>const</th> <td>   18.3901</td> <td>    0.817</td> <td>   22.499</td> <td> 0.000</td> <td>   16.784</td> <td>   19.996</td>\n",
       "</tr>\n",
       "<tr>\n",
       "  <th>DIS</th>   <td>    1.0916</td> <td>    0.188</td> <td>    5.795</td> <td> 0.000</td> <td>    0.722</td> <td>    1.462</td>\n",
       "</tr>\n",
       "</table>\n",
       "<table class=\"simpletable\">\n",
       "<tr>\n",
       "  <th>Omnibus:</th>       <td>139.779</td> <th>  Durbin-Watson:     </th> <td>   0.570</td>\n",
       "</tr>\n",
       "<tr>\n",
       "  <th>Prob(Omnibus):</th> <td> 0.000</td>  <th>  Jarque-Bera (JB):  </th> <td> 305.104</td>\n",
       "</tr>\n",
       "<tr>\n",
       "  <th>Skew:</th>          <td> 1.466</td>  <th>  Prob(JB):          </th> <td>5.59e-67</td>\n",
       "</tr>\n",
       "<tr>\n",
       "  <th>Kurtosis:</th>      <td> 5.424</td>  <th>  Cond. No.          </th> <td>    9.32</td>\n",
       "</tr>\n",
       "</table><br/><br/>Notes:<br/>[1] Standard Errors assume that the covariance matrix of the errors is correctly specified."
      ],
      "text/plain": [
       "<class 'statsmodels.iolib.summary.Summary'>\n",
       "\"\"\"\n",
       "                            OLS Regression Results                            \n",
       "==============================================================================\n",
       "Dep. Variable:                   MEDV   R-squared:                       0.062\n",
       "Model:                            OLS   Adj. R-squared:                  0.061\n",
       "Method:                 Least Squares   F-statistic:                     33.58\n",
       "Date:                Thu, 10 Aug 2023   Prob (F-statistic):           1.21e-08\n",
       "Time:                        19:59:42   Log-Likelihood:                -1823.9\n",
       "No. Observations:                 506   AIC:                             3652.\n",
       "Df Residuals:                     504   BIC:                             3660.\n",
       "Df Model:                           1                                         \n",
       "Covariance Type:            nonrobust                                         \n",
       "==============================================================================\n",
       "                 coef    std err          t      P>|t|      [0.025      0.975]\n",
       "------------------------------------------------------------------------------\n",
       "const         18.3901      0.817     22.499      0.000      16.784      19.996\n",
       "DIS            1.0916      0.188      5.795      0.000       0.722       1.462\n",
       "==============================================================================\n",
       "Omnibus:                      139.779   Durbin-Watson:                   0.570\n",
       "Prob(Omnibus):                  0.000   Jarque-Bera (JB):              305.104\n",
       "Skew:                           1.466   Prob(JB):                     5.59e-67\n",
       "Kurtosis:                       5.424   Cond. No.                         9.32\n",
       "==============================================================================\n",
       "\n",
       "Notes:\n",
       "[1] Standard Errors assume that the covariance matrix of the errors is correctly specified.\n",
       "\"\"\""
      ]
     },
     "execution_count": 18,
     "metadata": {},
     "output_type": "execute_result"
    }
   ],
   "source": [
    "# defining two series objects, based on columns 'MEDV' and 'DIS'\n",
    "y = df['MEDV']\n",
    "x = df['DIS']\n",
    "\n",
    "# adding a column of ones to x for evaluation\n",
    "x = sm.add_constant(x)\n",
    "\n",
    "# applying Ordinary Least Squares to y and x\n",
    "results = sm.OLS(y,x).fit()\n",
    "\n",
    "# summarizing the results of the OLS\n",
    "results.summary()"
   ]
  },
  {
   "cell_type": "code",
   "execution_count": 19,
   "id": "e545e9dc-0f18-4f18-a7b8-341397a28d13",
   "metadata": {},
   "outputs": [
    {
     "data": {
      "text/plain": [
       "0.24899799195977465"
      ]
     },
     "execution_count": 19,
     "metadata": {},
     "output_type": "execute_result"
    }
   ],
   "source": [
    "# from the results above, we see that R-quared is 0.062 --> need to have R --> calculate the square root of R-squared\n",
    "np.sqrt(0.062)"
   ]
  },
  {
   "cell_type": "markdown",
   "id": "f6b86ca1-cd38-4d45-a113-dc5313782b3f",
   "metadata": {},
   "source": [
    "The square root of R-squared is 0.24899799195977465 --> there is only a weak correlation between both features"
   ]
  },
  {
   "cell_type": "code",
   "execution_count": null,
   "id": "3ad5854b-86af-4e5b-82bf-2488a705fb07",
   "metadata": {},
   "outputs": [],
   "source": []
  },
  {
   "cell_type": "code",
   "execution_count": null,
   "id": "f5d385e6-292e-402c-9f1f-7a06333d5e67",
   "metadata": {},
   "outputs": [],
   "source": []
  }
 ],
 "metadata": {
  "kernelspec": {
   "display_name": "Python 3 (ipykernel)",
   "language": "python",
   "name": "python3"
  },
  "language_info": {
   "codemirror_mode": {
    "name": "ipython",
    "version": 3
   },
   "file_extension": ".py",
   "mimetype": "text/x-python",
   "name": "python",
   "nbconvert_exporter": "python",
   "pygments_lexer": "ipython3",
   "version": "3.9.7"
  }
 },
 "nbformat": 4,
 "nbformat_minor": 5
}
