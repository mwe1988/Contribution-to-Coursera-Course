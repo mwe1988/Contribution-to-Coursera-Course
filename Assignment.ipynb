{
 "cells": [
  {
   "cell_type": "markdown",
   "id": "950d9cfe-c0d0-4fc6-b274-e9b3a276cd43",
   "metadata": {},
   "source": [
    "Project Tasks:\n",
    "\n",
    "-Task 1: Familiarize yourself with the dataset \n",
    "-Task 2: (Optional) If you do not already have an instance of Watson Studio, create an IBM Cloud Lite account and provision an instance of Waston Studio.\n",
    "-Task 3: Load the dataset in a Jupyter Notebook using Watson Studio.\n",
    "-Task 4: Generate basic statistics and visualizations for upper management. \n",
    "-Task 5: Use the appropriate tests to answer the questions provided.\n",
    "-Task 6: Share your Jupyter Notebook."
   ]
  },
  {
   "cell_type": "markdown",
   "id": "fbd25009-6208-4872-831c-a50ae101a209",
   "metadata": {},
   "source": [
    "Import of needed libraries"
   ]
  },
  {
   "cell_type": "code",
   "execution_count": null,
   "id": "683f34de-6be0-4148-b6b7-bae4739c8281",
   "metadata": {},
   "outputs": [],
   "source": [
    "import numpy as np\n",
    "import pandas as pd\n",
    "import seaborn as sns\n",
    "import matplotlib.pyplot as plt\n",
    "import scipy.stats\n",
    "from statsmodels.formula.api import ols\n",
    "import seaborn as sns\n",
    "import statsmodels.api as sm\n",
    "import datetime\n",
    "\n",
    "%matplotlib inline\n",
    "\n",
    "import warnings\n",
    "warnings.filterwarnings('ignore')\n",
    "\n",
    "np.random.seed(0)\n",
    "np.set_printoptions(suppress=True)"
   ]
  },
  {
   "cell_type": "code",
   "execution_count": null,
   "id": "873249e5-f1c0-41fd-9676-02f7908c6b3e",
   "metadata": {},
   "outputs": [],
   "source": [
    "# download doesn't work --> Please use local copy of the file\n",
    "#boston_url = 'https://cf-courses-data.s3.us.cloud-object-storage.appdomain.cloud/IBMDeveloperSkillsNetwork-ST0151EN-SkillsNetwork/labs/boston_housing.csv'\n",
    "#boston_df=pd.read_csv(boston_url)"
   ]
  },
  {
   "cell_type": "code",
   "execution_count": null,
   "id": "16fb0ee2-62dc-42b3-930b-f8cf3c79c32d",
   "metadata": {},
   "outputs": [],
   "source": [
    "# only for local copy usage\n",
    "# reading data from csv\n",
    "df = pd.read_csv('./boston_housing.csv')\n",
    "\n",
    "# checking the data frame\n",
    "df"
   ]
  },
  {
   "cell_type": "markdown",
   "id": "96a2b128-1150-4a40-a30e-94fa513864bc",
   "metadata": {},
   "source": [
    "The data fram is 506 rows × 14 columns with the columns as defined in the task\n",
    "\n",
    "-CRIM - per capita crime rate by town\n",
    "-ZN - proportion of residential land zoned for lots over 25,000 sq.ft.\n",
    "-INDUS - proportion of non-retail business acres per town.\n",
    "-CHAS - Charles River dummy variable (1 if tract bounds river; 0 otherwise)\n",
    "-NOX - nitric oxides concentration (parts per 10 million)\n",
    "-RM - average number of rooms per dwelling\n",
    "-AGE - proportion of owner-occupied units built prior to 1940\n",
    "-DIS - weighted distances to five Boston employment centres\n",
    "-RAD - index of accessibility to radial highways\n",
    "-TAX - full-value property-tax rate per $10,000\n",
    "-PTRATIO - pupil-teacher ratio by town\n",
    "-LSTAT - % lower status of the population\n",
    "-MEDV - Median value of owner-occupied homes in $1000's"
   ]
  },
  {
   "cell_type": "code",
   "execution_count": null,
   "id": "5b674ed1-fa54-4ec7-8087-be1db25a18a2",
   "metadata": {},
   "outputs": [],
   "source": [
    "# checking metadata\n",
    "df.info()"
   ]
  },
  {
   "cell_type": "code",
   "execution_count": null,
   "id": "0062f078-cceb-40b0-b369-0fccf6994531",
   "metadata": {},
   "outputs": [],
   "source": [
    "# generate descriptive statistics\n",
    "df.describe()"
   ]
  },
  {
   "cell_type": "markdown",
   "id": "f472113b-76f9-4513-8178-5d07a5747b7b",
   "metadata": {},
   "source": [
    "Data is all float type with no NaNs"
   ]
  },
  {
   "cell_type": "code",
   "execution_count": null,
   "id": "351a8af4-c622-48c5-80fb-b22b18d9046c",
   "metadata": {},
   "outputs": [],
   "source": [
    "# checking the column labels\n",
    "df.columns"
   ]
  },
  {
   "cell_type": "code",
   "execution_count": null,
   "id": "d5151d13-d481-46c6-9775-9616203cc5bb",
   "metadata": {},
   "outputs": [],
   "source": [
    "# visualization of the data\n",
    "# make a histogram of the dataframe’s columns, using matplotlibs hist function\n",
    "df.hist(bins = 50, figsize = (20,10))\n",
    "\n",
    "# add a centered suptitle to the figure\n",
    "plt.suptitle('Feature Distribution', x = 0.5, y = 1.02, ha = 'center', fontsize = 'large')\n",
    "\n",
    "# adjust the padding between and around subplots\n",
    "plt.tight_layout()\n",
    "\n",
    "# plot...\n",
    "plt.show()"
   ]
  },
  {
   "cell_type": "markdown",
   "id": "a8e10a5e-a67f-4080-b6cf-2dd1ca89d4c3",
   "metadata": {},
   "source": [
    "The following tasks were given:\n",
    "\n",
    "-For the \"Median value of owner-occupied homes\" provide a boxplot\n",
    "-Provide a  bar plot for the Charles river variable\n",
    "-Provide a boxplot for the MEDV variable vs the AGE variable. (Discretize the age variable into three groups of 35 years and younger, between 35 and 70 years and 70 years and older)\n",
    "-Provide a scatter plot to show the relationship between Nitric oxide concentrations and the proportion of non-retail business acres per town. What can you say about the relationship?\n",
    "-Create a histogram for the pupil to teacher ratio variable"
   ]
  },
  {
   "cell_type": "code",
   "execution_count": null,
   "id": "d956eb69-69a2-4f67-86c3-e1f2369f6d70",
   "metadata": {},
   "outputs": [],
   "source": [
    "#Following straight forward the task „For the \"Median value of owner-occupied homes\" provide a boxplot\n",
    "# defining figure size\n",
    "plt.figure(figsize=(15,10))\n",
    "\n",
    "# drawing a box plot to show distributions with respect to category MEDV, using seaborns boxplot function\n",
    "sns.boxplot(x = df.MEDV)\n",
    "\n",
    "# add the title\n",
    "plt.title('Boxplot for MEDV')\n",
    "\n",
    "# plot...\n",
    "plt.show()"
   ]
  },
  {
   "cell_type": "code",
   "execution_count": null,
   "id": "b98fb410-97b8-4c39-b883-0aa87fab6cb7",
   "metadata": {},
   "outputs": [],
   "source": [
    "# and provide a histogram for the Charles river variable, as demanded\n",
    "# defining figure size\n",
    "plt.figure(figsize=(15,10))\n",
    "\n",
    "# draw the histogram for CHAS, using seaborns distplot function\n",
    "sns.distplot(a = df.CHAS,bins = 10, kde = False)\n",
    "\n",
    "# add the title\n",
    "plt.title('Histogram for Charles River')\n",
    "\n",
    "# plot...\n",
    "plt.show()"
   ]
  },
  {
   "cell_type": "code",
   "execution_count": null,
   "id": "57509f9b-b45a-4156-9950-8f1fc0cf2456",
   "metadata": {},
   "outputs": [],
   "source": [
    "# Next task:\n",
    "# Provide a boxplot for the MEDV variable vs the AGE variable. \n",
    "# (Discretize the age variable into three groups of 35 years and younger, between 35 and 70 years and 70 years and older)\n",
    "\n",
    "# discretize the age variable in three groups\n",
    "# group one:\n",
    "df.loc[(df['AGE'] <= 35),'age_group'] = '35 years and younger'\n",
    "\n",
    "# group two:\n",
    "df.loc[(df['AGE'] > 35) & (df[\"AGE\"]<70),'age_group'] = 'between 35 and 70 years'\n",
    "\n",
    "# group three:\n",
    "df.loc[(df['AGE'] >= 70),'age_group'] = '70 years and older'"
   ]
  },
  {
   "cell_type": "code",
   "execution_count": null,
   "id": "4fe96be4-ca14-4913-8068-6b73a9b0319d",
   "metadata": {},
   "outputs": [],
   "source": [
    "# checking the result of the operation\n",
    "df"
   ]
  },
  {
   "cell_type": "code",
   "execution_count": null,
   "id": "37ced25c-58f6-44c4-8b8d-610ae96bd458",
   "metadata": {},
   "outputs": [],
   "source": [
    "# creating the boxplot\n",
    "plt.figure(figsize=(15,10))\n",
    "\n",
    "# drawing a box plot to show distributions with respect to category MEDV and the discretized age variable in three groups, using seaborns boxplot function\n",
    "sns.boxplot(x = df.MEDV, y = df.age_group, data = df)\n",
    "\n",
    "# add the title\n",
    "plt.title('Boxplot for MEDV vs AGE ')\n",
    "\n",
    "# ... plot\n",
    "plt.show()"
   ]
  },
  {
   "cell_type": "code",
   "execution_count": null,
   "id": "6536f965-e13b-49c4-a4e1-50a064aaa8ee",
   "metadata": {},
   "outputs": [],
   "source": [
    "# Next task:\n",
    "# Provide a scatter plot to show the relationship between Nitric oxide concentrations and the proportion\n",
    "# of non-retail business acres per town. What can you say about the relationship?\n",
    "\n",
    "plt.figure(figsize = (15,10))\n",
    "\n",
    "# drawing a scatter plot to show scattering with respect to category NOX and the INDUS using seaborns scatterplot function\n",
    "sns.scatterplot(x = df.NOX, y = df.INDUS, data = df)\n",
    "\n",
    "# add the title\n",
    "plt.title('Relationship between NOX Concentrations (NOX) and Proportion of Non-Retail Business Acres per Town (INDUS)')\n",
    "\n",
    "# plot...\n",
    "plt.show()"
   ]
  },
  {
   "cell_type": "code",
   "execution_count": null,
   "id": "d21e8a63-3b17-4f13-96f0-4de30af30868",
   "metadata": {},
   "outputs": [],
   "source": [
    "# Next task:\n",
    "# Create a histogram for the pupil to teacher ratio variable\n",
    "plt.figure(figsize = (15,10))\n",
    "\n",
    "# draw the histogram with respect to PTRATIO using seaborns distplot function\n",
    "sns.distplot(a = df.PTRATIO, bins=10, kde=False)\n",
    "\n",
    "# add the title\n",
    "plt.title('Histogram for the pupil to teacher ratio variable (PTRATIO)')\n",
    "\n",
    "# ... plot\n",
    "plt.show()"
   ]
  },
  {
   "cell_type": "markdown",
   "id": "5a7b3581-aae2-4812-a6e4-e13453e03f97",
   "metadata": {},
   "source": [
    "Overview of task for statistical evaluation\n",
    "\n",
    "For each of the following questions:\n",
    "-Is there a significant difference in median value of houses bounded by the Charles river or not? (T-test for independent samples)\n",
    "-Is there a difference in Median values of houses (MEDV) for each proportion of owner occupied units built prior to 1940 (AGE)? (ANOVA)\n",
    "-Can we conclude that there is no relationship between Nitric oxide concentrations and proportion of non-retail business acres per town? (Pearson Correlation)\n",
    "-What is the impact of an additional weighted distance  to the five Boston employment centres on the median value of owner occupied homes? (Regression analysis)\n",
    "\n",
    "Be sure to:\n",
    "-State your hypothesis.\n",
    "-Use α = 0.05\n",
    "-Perform the test Statistics.\n",
    "-State the conclusion from the test."
   ]
  },
  {
   "cell_type": "markdown",
   "id": "a2739901-8132-4f4c-82c4-836b60dc84d8",
   "metadata": {},
   "source": [
    "First Task:\n",
    "Is there a significant difference in median value of houses bounded by the Charles river or not? (T-test for independent samples)\n",
    "\n",
    "Null Hypothesis: Both average MEDV are the same"
   ]
  },
  {
   "cell_type": "code",
   "execution_count": null,
   "id": "6ac270c9-12a4-4b14-b388-5eb5947d43b0",
   "metadata": {},
   "outputs": [],
   "source": [
    "# Alternative Hypothesis():\n",
    "# creating a series containing counts of unique values\n",
    "df['CHAS'].value_counts()\n",
    "\n",
    "# creating two lists 'a' and 'b' for evaluation via t-test for CHAS == 0 and CHAS == 1\n",
    "a = df[df['CHAS'] == 0]['MEDV']\n",
    "b = df[df['CHAS'] == 1]['MEDV']"
   ]
  },
  {
   "cell_type": "code",
   "execution_count": null,
   "id": "3991cf78-d6ec-42d8-8079-8b1308234ef9",
   "metadata": {},
   "outputs": [],
   "source": [
    "# checking a\n",
    "a"
   ]
  },
  {
   "cell_type": "code",
   "execution_count": null,
   "id": "4436f538-7bf2-4349-bb7f-09b364dc3025",
   "metadata": {},
   "outputs": [],
   "source": [
    "# checking b\n",
    "b"
   ]
  },
  {
   "cell_type": "code",
   "execution_count": null,
   "id": "da987a93-3274-44dd-8028-c5f92b17b7c7",
   "metadata": {},
   "outputs": [],
   "source": [
    "# performing t-test, using scipy and the generated lists 'a' and 'b'\n",
    "scipy.stats.ttest_ind(a, b, axis = 0, equal_var = True)"
   ]
  },
  {
   "cell_type": "markdown",
   "id": "854aa810-f424-4c04-94fa-22d39908dc0f",
   "metadata": {},
   "source": [
    "Since p-value p = 7.3906..... is more than alpha value of 0.05, we failed to reject null hypothesis --> there is NO statistical significance."
   ]
  },
  {
   "cell_type": "code",
   "execution_count": null,
   "id": "bd5877a2-3ea3-48ed-ae9f-f72f022a3dfa",
   "metadata": {},
   "outputs": [],
   "source": [
    "# Next task:\n",
    "# Is there a difference in Median values of houses (MEDV) for each proportion of owner occupied units built prior to 1940 (AGE)? (ANOVA)\n",
    "# creating a series containing counts of unique values of column 'AGE'\n",
    "df['AGE'].value_counts()"
   ]
  },
  {
   "cell_type": "code",
   "execution_count": null,
   "id": "c83895e6-2100-446d-b8d7-8f9fa0f60077",
   "metadata": {},
   "outputs": [],
   "source": [
    "# again grouping ages\n",
    "# group one:\n",
    "df.loc[(df['AGE'] <= 35),'age_group'] = '35 years and younger'\n",
    "\n",
    "# group two:\n",
    "df.loc[(df['AGE'] > 35) & (df[\"AGE\"]<70),'age_group'] = 'between 35 and 70 years'\n",
    "\n",
    "# group three:\n",
    "df.loc[(df['AGE'] >= 70),'age_group'] = '70 years and older'"
   ]
  },
  {
   "cell_type": "code",
   "execution_count": null,
   "id": "432ad7ff-d15e-4458-930e-24a5a6d935df",
   "metadata": {},
   "outputs": [],
   "source": [
    "# checking data frame\n",
    "df"
   ]
  },
  {
   "cell_type": "markdown",
   "id": "aa6f1314-dc12-4223-81bf-2436404cb23c",
   "metadata": {},
   "source": [
    "Null-Hypothesis: All aging classes have the same population mean"
   ]
  },
  {
   "cell_type": "code",
   "execution_count": null,
   "id": "4e1b89fc-f58b-4efb-8746-d10730cedbd3",
   "metadata": {},
   "outputs": [],
   "source": [
    "# separating the pre-defined groups in three classes, for the evaluation \n",
    "lower = df[df['age_group'] == '35 years and younger']['MEDV']\n",
    "middle = df[df['age_group'] == 'between 35 and 70 years']['MEDV']\n",
    "upper = df[df['age_group'] == '70 years and older']['MEDV']\n",
    "\n",
    "# perform one-way ANOVA --> The one-way ANOVA tests the null hypothesis that two or more groups have the same population mean.\n",
    "# The test is applied to samples from two or more groups, possibly with differing sizes.\n",
    "f_stats, p_value = scipy.stats.f_oneway(lower, middle, upper, axis = 0)\n",
    "\n",
    "# print the result of the ANOVA\n",
    "print('F-Statistic={0}, P-value={1}'.format(f_stats, p_value))"
   ]
  },
  {
   "cell_type": "markdown",
   "id": "55c547ae-78d9-4dd9-aa1b-e16dd556bbd1",
   "metadata": {},
   "source": [
    "Since P-value = 1.7105011022702984e-15 more than alpha value of 0.05, we failed to reject Null Hypothesis --> there is NO statistical significance."
   ]
  },
  {
   "cell_type": "markdown",
   "id": "d4060d27-9cf2-49b1-8ce1-4cee32886713",
   "metadata": {},
   "source": [
    "Next task:\n",
    "Can we conclude that there is no relationship between Nitric oxide concentrations and proportion of non-retail business acres per town? (Pearson Correlation)\n",
    "\n",
    "Hypotheses:\n",
    "1.NOX is not correlated with INDUS\n",
    "\n",
    "2.NOX is correlated with INDUS"
   ]
  },
  {
   "cell_type": "code",
   "execution_count": null,
   "id": "c69257d4-eac0-4e47-8516-d3ddc3e27a9c",
   "metadata": {},
   "outputs": [],
   "source": [
    "# applying pearsons to 'NOX' and 'INDUS'\n",
    "pearson,p_value = scipy.stats.pearsonr(df['NOX'],df['INDUS'])\n",
    "\n",
    "# print the result of pearsons\n",
    "print('Pearson Coefficient value={0}, P-value={1}'.format(pearson, p_value))"
   ]
  },
  {
   "cell_type": "markdown",
   "id": "d25279ad-d8d7-4de2-85e7-60d6c6465603",
   "metadata": {},
   "source": [
    "Since the P-value=7.913361061240043e-98 < 0.05, we reject the Null Hypothesis\n",
    "Additionally, we conclude that there exists a relationship between Nitric Oxide and non-retail business acres per town."
   ]
  },
  {
   "cell_type": "markdown",
   "id": "325bac88-11a5-4c27-8cce-4f863ec8df87",
   "metadata": {
    "tags": []
   },
   "source": [
    "Next Task:\n",
    "What is the impact of an additional weighted distance to the five Boston employment centres on the median value of owner occupied homes? (Regression analysis)\n",
    "\n",
    "Null Hypothesis: Weighted distances to five Boston employment centres are not related to median value\n",
    "\n",
    "Alternative Hypothesis: Weighted distances to five Boston employment centres are related to median value"
   ]
  },
  {
   "cell_type": "code",
   "execution_count": null,
   "id": "4a404048-fc7a-48ad-b369-7753f047f4d8",
   "metadata": {
    "tags": []
   },
   "outputs": [],
   "source": [
    "# defining two series objects, based on columns 'MEDV' and 'DIS'\n",
    "y = df['MEDV']\n",
    "x = df['DIS']\n",
    "\n",
    "# adding a column of ones to x for evaluation\n",
    "x = sm.add_constant(x)\n",
    "\n",
    "# applying Ordinary Least Squares to y and x\n",
    "results = sm.OLS(y,x).fit()\n",
    "\n",
    "# summarizing the results of the OLS\n",
    "results.summary()"
   ]
  },
  {
   "cell_type": "code",
   "execution_count": null,
   "id": "e545e9dc-0f18-4f18-a7b8-341397a28d13",
   "metadata": {},
   "outputs": [],
   "source": [
    "# from the results above, we see that R-quared is 0.062 --> need to have R --> calculate the square root of R-squared\n",
    "np.sqrt(0.062)"
   ]
  },
  {
   "cell_type": "markdown",
   "id": "71e2d6e3-382c-4239-8eda-2cce3008f0a8",
   "metadata": {},
   "source": [
    "The square root of R-squared is 0.24899799195977465 --> there is only a weak correlation between both features"
   ]
  },
  {
   "cell_type": "code",
   "execution_count": null,
   "id": "9260b3fb-a0c1-403a-b6e1-1e42d9e8e09a",
   "metadata": {},
   "outputs": [],
   "source": [
    "# using correlation function to find the pairwise correlation of all columns in the data frame\n",
    "df.corr()"
   ]
  },
  {
   "cell_type": "code",
   "execution_count": null,
   "id": "3ad5854b-86af-4e5b-82bf-2488a705fb07",
   "metadata": {},
   "outputs": [],
   "source": [
    "# Last Task =)\n",
    "# Creating heatmap\n",
    "# defining figure size\n",
    "plt.figure(figsize=(20,15))\n",
    "\n",
    "# creating heat map based on the above correlation matrix, using blue-green colour mapping,  setting the output to two digits\n",
    "sns.heatmap(df.corr(),cmap = 'crest', annot = True, fmt ='.2f', linewidths = 1, cbar = True)\n",
    "\n",
    "# ... plotting\n",
    "plt.show()"
   ]
  },
  {
   "cell_type": "code",
   "execution_count": null,
   "id": "f5d385e6-292e-402c-9f1f-7a06333d5e67",
   "metadata": {},
   "outputs": [],
   "source": []
  }
 ],
 "metadata": {
  "kernelspec": {
   "display_name": "Python 3 (ipykernel)",
   "language": "python",
   "name": "python3"
  },
  "language_info": {
   "codemirror_mode": {
    "name": "ipython",
    "version": 3
   },
   "file_extension": ".py",
   "mimetype": "text/x-python",
   "name": "python",
   "nbconvert_exporter": "python",
   "pygments_lexer": "ipython3",
   "version": "3.9.7"
  }
 },
 "nbformat": 4,
 "nbformat_minor": 5
}
